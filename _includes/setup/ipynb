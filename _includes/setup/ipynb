{%- assign file = include.file %}
{%- if include.path %}{% assign fpath = include.path %}{%- else %}{% include setup/check_path folder=include.folder %}{%- assign fpath = file_path %}{%- endif %}
{%- unless include.justbullet %}
**To download the Jupyter Notebook** for this tutorial within Open on Demand, you can use the following lines in the python console:
```python
import urllib.request
tutorial_name = '{{ file }}'
urllib.request.urlretrieve('{{ site.url }}{{ fpath }}/'  + tutorial_name, tutorial_name)
```    
  * {%- endunless %} [Download Jupyter Notebook]({{ fpath }}/{{ file }})
