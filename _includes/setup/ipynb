{%- assign file = include.file %}
{%- if include.path %}{% assign fpath = include.path %}{%- else %}{% include setup/check_path folder=include.folder %}{%- assign fpath = file_path %}{%- endif %}
{%- unless include.justbullet %}
**To download the Jupyter Notebook** for this tutorial within Open on Demand, you can use the following lines in the python console:
```python
import requests as r
url = '{{ site.url }}{{ fpath }}/{{ file }}'
response = r.get(url)
filename = "{{ file }}"
\n
\# Save the file locally.
with open(filename, mode="wb") as file:
    file.write(response.content)
```      
  * {%- endunless %} [Download Jupyter Notebook]({{ fpath }}/{{ file }})
