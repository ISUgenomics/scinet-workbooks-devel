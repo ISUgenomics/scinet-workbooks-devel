{%- assign file = include.file %}
{%- if include.path %}{% assign fpath = include.path %}{%- else %}{% include setup/check_path folder=include.folder %}{%- assign fpath = file_path %}{%- endif %}
{%- if include.justbullet %} [Download Jupyter Notebook]({{ fpath }}/{{ file }})
{%- else %}To download the [Jupyter Notebook]({{ fpath }}/{{ file }}) for this tutorial within Open on Demand, you can use the following lines in the python console:
```python
import requests as r
url = '{{ site.url }}{{ fpath }}/{{ file }}'
response = r.get(url)
filename = "{{ file }}"
#
# Save the file locally.
with open(filename, mode="wb") as file:
    file.write(response.content)
```      
{% endif %}
