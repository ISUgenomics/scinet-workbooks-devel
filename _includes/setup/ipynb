{%- assign file = include.file %}
{%- if include.path %}{% assign fpath = include.path %}{%- else %}
{%- unless file_path %}{%- include file_path folder=include.folder %}{%- endunless %}
{%- assign fpath = file_path %}
{%- endif %}
{% unless include.justbullet %}
**To download the Jupyter Notebook** for this tutorial within Open on Demand, you can use the following lines in the python console:
```python
import urllib.request
tutorial_name = '{{ file }}'
urllib.request.urlretrieve('{{ site.url }}{{ fpath }}'  + tutorial_name, tutorial_name)
``` 
* {% endunless %}[Download Jupyter Notebook]({{ fpath }}/{{ file }})
