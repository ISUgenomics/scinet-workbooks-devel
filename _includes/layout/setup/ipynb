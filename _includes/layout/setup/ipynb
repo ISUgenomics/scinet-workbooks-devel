{%- assign file = include.file %}
{% if include.path %}
{% assign file_path = include.path %}
{% else %}
{% assign folder = include.folder | default: 0 %}
{%- include file_path folder=folder %}
{% endif %}
{% unless include.justbullet %}
**To download the Jupyter Notebook** for this tutorial within Open on Demand, you can use the following lines in the python console:
```python
import urllib.request
tutorial_name = '{{ jl.notebook }}'
urllib.request.urlretrieve('https://geospatial.101workbook.org/tutorials/' + tutorial_name, tutorial_name)
``` 
* {% endunless %}[Download Jupyter Notebook]({{ file_path }}/{{ file }})
